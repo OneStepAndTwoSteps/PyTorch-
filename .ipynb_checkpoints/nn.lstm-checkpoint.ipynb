{
 "cells": [
  {
   "cell_type": "markdown",
   "metadata": {},
   "source": [
    "## LSTM"
   ]
  },
  {
   "cell_type": "code",
   "execution_count": 3,
   "metadata": {},
   "outputs": [],
   "source": [
    "from torch.nn import LSTM\n",
    "import torch"
   ]
  },
  {
   "cell_type": "code",
   "execution_count": 4,
   "metadata": {},
   "outputs": [],
   "source": [
    "lstm = LSTM(input_size = 4,hidden_size=5,batch_first=True)\n",
    "inputs = torch.rand(2,3,4)\n",
    "outputs,(hn,cn) = lstm(inputs)"
   ]
  },
  {
   "cell_type": "markdown",
   "metadata": {},
   "source": [
    "#### output 为输出序列的隐藏层，hn为最后一个时刻的隐藏层，cn为最后一个时刻的记忆细胞"
   ]
  },
  {
   "cell_type": "code",
   "execution_count": 5,
   "metadata": {},
   "outputs": [
    {
     "data": {
      "text/plain": [
       "tensor([[[ 0.1764,  0.0533,  0.0934,  0.0364, -0.0713],\n",
       "         [ 0.2261,  0.0169,  0.1632,  0.2033, -0.1346],\n",
       "         [ 0.2179, -0.0016,  0.1605,  0.2536, -0.1547]],\n",
       "\n",
       "        [[ 0.1907,  0.0615,  0.0986,  0.0710, -0.0780],\n",
       "         [ 0.2485,  0.0146,  0.1463,  0.1446, -0.1274],\n",
       "         [ 0.2547,  0.0395,  0.1722,  0.1309, -0.1494]]],\n",
       "       grad_fn=<TransposeBackward0>)"
      ]
     },
     "execution_count": 5,
     "metadata": {},
     "output_type": "execute_result"
    }
   ],
   "source": [
    "outputs ## 输出两个序列，每个序列长度为3 大小为5"
   ]
  },
  {
   "cell_type": "markdown",
   "metadata": {},
   "source": [
    "#### 最后一个时刻的隐藏层，值与output 真能干最后一个时刻相同"
   ]
  },
  {
   "cell_type": "code",
   "execution_count": 6,
   "metadata": {},
   "outputs": [
    {
     "data": {
      "text/plain": [
       "tensor([[[ 0.2179, -0.0016,  0.1605,  0.2536, -0.1547],\n",
       "         [ 0.2547,  0.0395,  0.1722,  0.1309, -0.1494]]],\n",
       "       grad_fn=<StackBackward>)"
      ]
     },
     "execution_count": 6,
     "metadata": {},
     "output_type": "execute_result"
    }
   ],
   "source": [
    "hn"
   ]
  },
  {
   "cell_type": "code",
   "execution_count": 8,
   "metadata": {},
   "outputs": [
    {
     "data": {
      "text/plain": [
       "tensor([[ 0.2179, -0.0016,  0.1605,  0.2536, -0.1547],\n",
       "        [ 0.2547,  0.0395,  0.1722,  0.1309, -0.1494]],\n",
       "       grad_fn=<SelectBackward>)"
      ]
     },
     "execution_count": 8,
     "metadata": {},
     "output_type": "execute_result"
    }
   ],
   "source": [
    "hn[-1]"
   ]
  },
  {
   "cell_type": "code",
   "execution_count": 7,
   "metadata": {},
   "outputs": [
    {
     "data": {
      "text/plain": [
       "tensor([[[ 0.5298, -0.0029,  0.2957,  0.5308, -0.4250],\n",
       "         [ 0.5133,  0.0848,  0.2943,  0.2930, -0.4678]]],\n",
       "       grad_fn=<StackBackward>)"
      ]
     },
     "execution_count": 7,
     "metadata": {},
     "output_type": "execute_result"
    }
   ],
   "source": [
    "cn"
   ]
  },
  {
   "cell_type": "code",
   "execution_count": null,
   "metadata": {},
   "outputs": [],
   "source": []
  }
 ],
 "metadata": {
  "kernelspec": {
   "display_name": "Python 3",
   "language": "python",
   "name": "python3"
  },
  "language_info": {
   "codemirror_mode": {
    "name": "ipython",
    "version": 3
   },
   "file_extension": ".py",
   "mimetype": "text/x-python",
   "name": "python",
   "nbconvert_exporter": "python",
   "pygments_lexer": "ipython3",
   "version": "3.6.4"
  }
 },
 "nbformat": 4,
 "nbformat_minor": 2
}
