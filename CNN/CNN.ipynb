{
 "cells": [
  {
   "cell_type": "markdown",
   "metadata": {},
   "source": [
    "# CNN"
   ]
  },
  {
   "cell_type": "code",
   "execution_count": 6,
   "metadata": {},
   "outputs": [],
   "source": [
    "import torch \n",
    "from torch.nn import Conv1d"
   ]
  },
  {
   "cell_type": "markdown",
   "metadata": {},
   "source": [
    "## 卷积层\n",
    "\n",
    "#### 定义卷积核："
   ]
  },
  {
   "cell_type": "code",
   "execution_count": 10,
   "metadata": {},
   "outputs": [],
   "source": [
    "conv1 = Conv1d(5,2,4) ## 定义一个一维卷积，输入通道为5输出通道为2，卷积核宽度为4\n",
    "conv2 = Conv1d(5,2,3) "
   ]
  },
  {
   "cell_type": "code",
   "execution_count": 18,
   "metadata": {},
   "outputs": [
    {
     "data": {
      "text/plain": [
       "Parameter containing:\n",
       "tensor([[[ 0.1977, -0.1849, -0.0051, -0.0765],\n",
       "         [ 0.1158, -0.0741, -0.1510, -0.1566],\n",
       "         [ 0.1059,  0.0065,  0.1363,  0.0416],\n",
       "         [ 0.1335, -0.0491, -0.1798,  0.1796],\n",
       "         [-0.1136,  0.0652,  0.0575, -0.0277]],\n",
       "\n",
       "        [[ 0.0742,  0.0586,  0.1789,  0.1329],\n",
       "         [ 0.1697,  0.0997,  0.0947, -0.1062],\n",
       "         [ 0.1556, -0.0320, -0.1213,  0.0201],\n",
       "         [ 0.1158,  0.0335, -0.1288, -0.1070],\n",
       "         [ 0.0660, -0.1795, -0.1154,  0.0520]]], requires_grad=True)"
      ]
     },
     "execution_count": 18,
     "metadata": {},
     "output_type": "execute_result"
    }
   ],
   "source": [
    "conv1.weight"
   ]
  },
  {
   "cell_type": "code",
   "execution_count": 11,
   "metadata": {},
   "outputs": [
    {
     "data": {
      "text/plain": [
       "tensor([[[0.5188, 0.1902, 0.8125, 0.0462, 0.4569, 0.4877],\n",
       "         [0.1220, 0.7713, 0.6743, 0.6583, 0.2671, 0.2709],\n",
       "         [0.5262, 0.7208, 0.2982, 0.9659, 0.5592, 0.6815],\n",
       "         [0.0450, 0.3261, 0.9294, 0.8947, 0.3968, 0.7090],\n",
       "         [0.6248, 0.8016, 0.2406, 0.8137, 0.5365, 0.7847]],\n",
       "\n",
       "        [[0.7847, 0.1234, 0.3668, 0.6687, 0.9791, 0.9096],\n",
       "         [0.9705, 0.7845, 0.3262, 0.1871, 0.4709, 0.8865],\n",
       "         [0.2994, 0.5887, 0.3569, 0.9487, 0.6254, 0.4711],\n",
       "         [0.7036, 0.8573, 0.0514, 0.7423, 0.3432, 0.2907],\n",
       "         [0.4625, 0.2018, 0.7091, 0.3848, 0.9401, 0.8142]]])"
      ]
     },
     "execution_count": 11,
     "metadata": {},
     "output_type": "execute_result"
    }
   ],
   "source": [
    "inputs = torch.rand(2,5,6)  ## 输入数据批次大小为2，有两个序列，每个序列长度为6，输入维度为5\n",
    "inputs"
   ]
  },
  {
   "cell_type": "code",
   "execution_count": 13,
   "metadata": {},
   "outputs": [
    {
     "data": {
      "text/plain": [
       "tensor([[[-0.2846, -0.3455,  0.1786],\n",
       "         [ 0.0939,  0.2610,  0.2534]],\n",
       "\n",
       "        [[ 0.1514, -0.0715, -0.4199],\n",
       "         [ 0.4806,  0.2972,  0.2593]]], grad_fn=<SqueezeBackward1>)"
      ]
     },
     "execution_count": 13,
     "metadata": {},
     "output_type": "execute_result"
    }
   ],
   "source": [
    "outputs1 = conv1(inputs) ## 输出2个序列，每个序列长度为3，大小为2\n",
    "outputs1"
   ]
  },
  {
   "cell_type": "code",
   "execution_count": 14,
   "metadata": {},
   "outputs": [
    {
     "data": {
      "text/plain": [
       "tensor([[[ 0.0509, -0.0991, -0.0014, -0.1144],\n",
       "         [-0.1187,  0.0843, -0.3680, -0.0215]],\n",
       "\n",
       "        [[-0.0347, -0.3355,  0.0789,  0.2599],\n",
       "         [-0.4117,  0.2009,  0.0451, -0.2474]]], grad_fn=<SqueezeBackward1>)"
      ]
     },
     "execution_count": 14,
     "metadata": {},
     "output_type": "execute_result"
    }
   ],
   "source": [
    "outputs2 = conv2(inputs) \n",
    "outputs2"
   ]
  },
  {
   "cell_type": "markdown",
   "metadata": {},
   "source": [
    "## 池化层"
   ]
  },
  {
   "cell_type": "code",
   "execution_count": 15,
   "metadata": {},
   "outputs": [],
   "source": [
    "from torch.nn import MaxPool1d"
   ]
  },
  {
   "cell_type": "code",
   "execution_count": 19,
   "metadata": {},
   "outputs": [],
   "source": [
    "pool1 = MaxPool1d(3)  ## 池化层核大小为3\n",
    "pool2 = MaxPool1d(4)  ## "
   ]
  },
  {
   "cell_type": "code",
   "execution_count": 30,
   "metadata": {},
   "outputs": [
    {
     "data": {
      "text/plain": [
       "MaxPool1d(kernel_size=3, stride=3, padding=0, dilation=1, ceil_mode=False)"
      ]
     },
     "execution_count": 30,
     "metadata": {},
     "output_type": "execute_result"
    }
   ],
   "source": [
    "pool1"
   ]
  },
  {
   "cell_type": "code",
   "execution_count": 24,
   "metadata": {},
   "outputs": [
    {
     "data": {
      "text/plain": [
       "tensor([[[0.1786],\n",
       "         [0.2610]],\n",
       "\n",
       "        [[0.1514],\n",
       "         [0.4806]]], grad_fn=<SqueezeBackward1>)"
      ]
     },
     "execution_count": 24,
     "metadata": {},
     "output_type": "execute_result"
    }
   ],
   "source": [
    "pool1(outputs1)"
   ]
  },
  {
   "cell_type": "code",
   "execution_count": 31,
   "metadata": {},
   "outputs": [
    {
     "data": {
      "text/plain": [
       "torch.Size([2, 2, 1])"
      ]
     },
     "execution_count": 31,
     "metadata": {},
     "output_type": "execute_result"
    }
   ],
   "source": [
    "pool1(outputs1).shape"
   ]
  },
  {
   "cell_type": "code",
   "execution_count": 22,
   "metadata": {},
   "outputs": [
    {
     "data": {
      "text/plain": [
       "tensor([[[0.0509],\n",
       "         [0.0843]],\n",
       "\n",
       "        [[0.2599],\n",
       "         [0.2009]]], grad_fn=<SqueezeBackward1>)"
      ]
     },
     "execution_count": 22,
     "metadata": {},
     "output_type": "execute_result"
    }
   ],
   "source": [
    "pool2(outputs2)"
   ]
  },
  {
   "cell_type": "code",
   "execution_count": 32,
   "metadata": {},
   "outputs": [
    {
     "data": {
      "text/plain": [
       "torch.Size([2, 2, 1])"
      ]
     },
     "execution_count": 32,
     "metadata": {},
     "output_type": "execute_result"
    }
   ],
   "source": [
    "pool2(outputs2).shape"
   ]
  }
 ],
 "metadata": {
  "kernelspec": {
   "display_name": "Python 3",
   "language": "python",
   "name": "python3"
  },
  "language_info": {
   "codemirror_mode": {
    "name": "ipython",
    "version": 3
   },
   "file_extension": ".py",
   "mimetype": "text/x-python",
   "name": "python",
   "nbconvert_exporter": "python",
   "pygments_lexer": "ipython3",
   "version": "3.6.4"
  }
 },
 "nbformat": 4,
 "nbformat_minor": 2
}
