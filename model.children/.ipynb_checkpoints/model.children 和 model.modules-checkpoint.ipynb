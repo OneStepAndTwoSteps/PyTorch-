{
 "cells": [
  {
   "cell_type": "code",
   "execution_count": 1,
   "id": "45dd520f",
   "metadata": {},
   "outputs": [],
   "source": [
    "import torch\n",
    "from torch import nn"
   ]
  },
  {
   "cell_type": "code",
   "execution_count": 2,
   "id": "68978ff9",
   "metadata": {},
   "outputs": [],
   "source": [
    "m = nn.Sequential(nn.Linear(2,2), \n",
    "                  nn.ReLU(),\n",
    "                 nn.Sequential(nn.Sigmoid(), nn.ReLU()))"
   ]
  },
  {
   "cell_type": "markdown",
   "id": "ce5597c6",
   "metadata": {},
   "source": [
    "#### children()与modules()都是返回网络模型里的组成元素，但是children()返回的是最外层的元素，modules()返回的是所有的元素，包括不同级别的子元素。"
   ]
  },
  {
   "cell_type": "code",
   "execution_count": 10,
   "id": "263af64d",
   "metadata": {},
   "outputs": [
    {
     "data": {
      "text/plain": [
       "<generator object Module.children at 0x000001BB2C05C948>"
      ]
     },
     "execution_count": 10,
     "metadata": {},
     "output_type": "execute_result"
    }
   ],
   "source": [
    "m.children()"
   ]
  },
  {
   "cell_type": "code",
   "execution_count": 12,
   "id": "4ef19026",
   "metadata": {},
   "outputs": [
    {
     "data": {
      "text/plain": [
       "<generator object Module.modules at 0x000001BB2C05CB48>"
      ]
     },
     "execution_count": 12,
     "metadata": {},
     "output_type": "execute_result"
    }
   ],
   "source": [
    "m.modules()"
   ]
  },
  {
   "cell_type": "code",
   "execution_count": 14,
   "id": "d40f05bd",
   "metadata": {},
   "outputs": [
    {
     "name": "stdout",
     "output_type": "stream",
     "text": [
      "Linear(in_features=2, out_features=2, bias=True)\n",
      "ReLU()\n",
      "Sequential(\n",
      "  (0): Sigmoid()\n",
      "  (1): ReLU()\n",
      ")\n"
     ]
    }
   ],
   "source": [
    "for net in m.children():\n",
    "    print(net)"
   ]
  },
  {
   "cell_type": "code",
   "execution_count": 15,
   "id": "b8764b87",
   "metadata": {},
   "outputs": [
    {
     "name": "stdout",
     "output_type": "stream",
     "text": [
      "Sequential(\n",
      "  (0): Linear(in_features=2, out_features=2, bias=True)\n",
      "  (1): ReLU()\n",
      "  (2): Sequential(\n",
      "    (0): Sigmoid()\n",
      "    (1): ReLU()\n",
      "  )\n",
      ")\n",
      "Linear(in_features=2, out_features=2, bias=True)\n",
      "ReLU()\n",
      "Sequential(\n",
      "  (0): Sigmoid()\n",
      "  (1): ReLU()\n",
      ")\n",
      "Sigmoid()\n",
      "ReLU()\n"
     ]
    }
   ],
   "source": [
    "for net in m.modules():\n",
    "    print(net)"
   ]
  },
  {
   "cell_type": "markdown",
   "id": "3a86a8b7",
   "metadata": {},
   "source": [
    "相当于对于：   `  a=[1,2,[3,4]]`\n",
    "\n",
    "children 返回：`1,2，[3，4]`\n",
    "\n",
    "modules 返回：`[1,2,[3,4]], 1, 2, [3,4], 3, 4`"
   ]
  }
 ],
 "metadata": {
  "kernelspec": {
   "display_name": "Python [conda env:pytorch_env1] *",
   "language": "python",
   "name": "conda-env-pytorch_env1-py"
  },
  "language_info": {
   "codemirror_mode": {
    "name": "ipython",
    "version": 3
   },
   "file_extension": ".py",
   "mimetype": "text/x-python",
   "name": "python",
   "nbconvert_exporter": "python",
   "pygments_lexer": "ipython3",
   "version": "3.7.11"
  }
 },
 "nbformat": 4,
 "nbformat_minor": 5
}
