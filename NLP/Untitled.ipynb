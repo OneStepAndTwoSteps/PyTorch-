{
 "cells": [
  {
   "cell_type": "code",
   "execution_count": 9,
   "id": "74a38b77",
   "metadata": {},
   "outputs": [
    {
     "name": "stdout",
     "output_type": "stream",
     "text": [
      "2\n",
      "The balance is : 100\n",
      "1\n",
      "2\n",
      "The new balance is : 100\n",
      "The no. of transactions are: 2\n",
      "1\n",
      "2\n",
      "The new balance is : 100\n",
      "The no. of transactions are: 3\n",
      "2\n",
      "The transaction history is: [50, 200, 300]\n"
     ]
    }
   ],
   "source": [
    "class bank_record:\n",
    "      \n",
    "    def __init__(self, name):\n",
    "          \n",
    "        self.record = {\n",
    "                        \"name\": name,\n",
    "                        \"balance\": 100,\n",
    "                        \"transaction\":[50]\n",
    "                        }\n",
    "  \n",
    "    def __getitem__(self, key):\n",
    "        print(2)\n",
    "        return self.record[key]\n",
    "  \n",
    "    def __setitem__(self, key, newvalue):\n",
    "          \n",
    "        if key ==\"balance\" and newvalue != None and newvalue>= 100:\n",
    "            self.record[key] += newvalue\n",
    "              \n",
    "        elif key ==\"transaction\" and newvalue != None:\n",
    "            self.record[key].append(newvalue)\n",
    "      \n",
    "    def getBalance(self):\n",
    "        return self[\"balance\"]\n",
    "  \n",
    "    def updateBalance(self, new_balance):\n",
    "          \n",
    "        self[\"balance\"]= 20\n",
    "        print(1)\n",
    "        self.__setitem__(\"transaction\", new_balance)    \n",
    "      \n",
    "    def getTransactions(self):\n",
    "        return self.__getitem__(\"transaction\")\n",
    "  \n",
    "    def numTransactions(self):\n",
    "        return len(self.record[\"transaction\"])\n",
    "  \n",
    "sam = bank_record(\"Sam\")\n",
    "print(\"The balance is : \"+str(sam.getBalance()))\n",
    "  \n",
    "sam.updateBalance(200)\n",
    "print(\"The new balance is : \"+str(sam.getBalance()))\n",
    "print(\"The no. of transactions are: \"+str(sam.numTransactions()))\n",
    "  \n",
    "sam.updateBalance(300)\n",
    "print(\"The new balance is : \"+str(sam.getBalance()))\n",
    "print(\"The no. of transactions are: \"+str(sam.numTransactions()))\n",
    "print(\"The transaction history is: \"+ str(sam.getTransactions()))"
   ]
  },
  {
   "cell_type": "code",
   "execution_count": 1,
   "id": "adc7248f",
   "metadata": {},
   "outputs": [],
   "source": [
    "import numpy as np"
   ]
  },
  {
   "cell_type": "code",
   "execution_count": 3,
   "id": "7ce42600",
   "metadata": {},
   "outputs": [
    {
     "data": {
      "text/plain": [
       "0.049787068367863944"
      ]
     },
     "execution_count": 3,
     "metadata": {},
     "output_type": "execute_result"
    }
   ],
   "source": [
    "np.exp(-3)"
   ]
  },
  {
   "cell_type": "code",
   "execution_count": 6,
   "id": "58de6b10",
   "metadata": {},
   "outputs": [
    {
     "data": {
      "text/plain": [
       "0.04978706836786395"
      ]
     },
     "execution_count": 6,
     "metadata": {},
     "output_type": "execute_result"
    }
   ],
   "source": [
    "(1/np.e)**3"
   ]
  }
 ],
 "metadata": {
  "kernelspec": {
   "display_name": "Python 3 (ipykernel)",
   "language": "python",
   "name": "python3"
  },
  "language_info": {
   "codemirror_mode": {
    "name": "ipython",
    "version": 3
   },
   "file_extension": ".py",
   "mimetype": "text/x-python",
   "name": "python",
   "nbconvert_exporter": "python",
   "pygments_lexer": "ipython3",
   "version": "3.7.11"
  }
 },
 "nbformat": 4,
 "nbformat_minor": 5
}
