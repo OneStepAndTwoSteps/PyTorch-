{
 "cells": [
  {
   "cell_type": "markdown",
   "metadata": {},
   "source": [
    "## hook 函数"
   ]
  },
  {
   "cell_type": "markdown",
   "metadata": {},
   "source": [
    "### 一、register_forward_hook"
   ]
  },
  {
   "cell_type": "markdown",
   "metadata": {},
   "source": [
    "如果随机的初始化每个层，那么就无法测试出自己获取的输入输出是不是forward中的输入输出了，所以需要将每一层的权重和偏置设置为可识别的值（比如全部初始化为1）。网络包含两层（Linear有需要求导的参数被称为一个层，而ReLU没有需要求导的参数不被称作一层），__init__()中调用initialize函数对所有层进行初始化。"
   ]
  },
  {
   "cell_type": "code",
   "execution_count": 9,
   "metadata": {},
   "outputs": [],
   "source": [
    "import torch\n",
    "import torch.nn as nn\n",
    "\n",
    "\n",
    "class TestForHook(nn.Module):\n",
    "    def __init__(self):\n",
    "        super().__init__()\n",
    "\n",
    "        self.linear_1 = nn.Linear(in_features=2, out_features=2)\n",
    "        self.linear_2 = nn.Linear(in_features=2, out_features=1)\n",
    "        self.relu = nn.ReLU()\n",
    "        self.relu6 = nn.ReLU6()\n",
    "        self.initialize()\n",
    "\n",
    "    def forward(self, x):\n",
    "        linear_1 = self.linear_1(x)\n",
    "        linear_2 = self.linear_2(linear_1)\n",
    "        relu = self.relu(linear_2)\n",
    "        relu_6 = self.relu6(relu)\n",
    "        layers_in = (x, linear_1, linear_2)\n",
    "        layers_out = (linear_1, linear_2, relu)\n",
    "        return relu_6, layers_in, layers_out\n",
    "\n",
    "    def initialize(self):\n",
    "        \"\"\" 定义特殊的初始化，用于验证是不是获取了权重\"\"\"\n",
    "        self.linear_1.weight = torch.nn.Parameter(torch.FloatTensor([[1, 1], [1, 1]]))\n",
    "        self.linear_1.bias = torch.nn.Parameter(torch.FloatTensor([1, 1]))\n",
    "        self.linear_2.weight = torch.nn.Parameter(torch.FloatTensor([[1, 1]]))\n",
    "        self.linear_2.bias = torch.nn.Parameter(torch.FloatTensor([1]))\n",
    "        return True"
   ]
  },
  {
   "cell_type": "markdown",
   "metadata": {},
   "source": [
    "hook（）函数是register_forward_hook()函数必须提供的参数，好处是“用户可以自行决定拦截了中间信息之后要做什么！”，比如自己想单纯的记录网络的输入输出（也可以进行修改等更加复杂的操作）。首先定义几个容器用于记录："
   ]
  },
  {
   "cell_type": "code",
   "execution_count": 10,
   "metadata": {},
   "outputs": [],
   "source": [
    "# 1：定义用于获取网络各层输入输出tensor的容器\n",
    "# 并定义module_name用于记录相应的module名字\n",
    "module_name = []\n",
    "features_in_hook = []               ## 用于保存 hook 得到的 fea_in\n",
    "features_out_hook = []              ## 用于保存 hook 得到的 fea_out"
   ]
  },
  {
   "cell_type": "markdown",
   "metadata": {},
   "source": [
    "hook函数需要三个参数，这三个参数是系统传给hook函数的，自己不能修改这三个参数："
   ]
  },
  {
   "cell_type": "code",
   "execution_count": 11,
   "metadata": {},
   "outputs": [],
   "source": [
    "# 2：hook函数负责将获取的输入输出添加到feature列表中\n",
    "# 并提供相应的module名字\n",
    "\n",
    "# features_in_hook 储存了注册的hook层中的输入特征\n",
    "# features_out_hook 储存了注册的hook层中的输出特征\n",
    "def hook(module, fea_in, fea_out):\n",
    "    print(\"hooker working\")\n",
    "    print('module.__class__：',module.__class__)\n",
    "    module_name.append(module.__class__)\n",
    "    print('fea_in：',fea_in)\n",
    "    print('fea_out：',fea_out)\n",
    "    print('\\n')\n",
    "    features_in_hook.append(fea_in)\n",
    "    features_out_hook.append(fea_out)\n",
    "    return None"
   ]
  },
  {
   "cell_type": "code",
   "execution_count": 12,
   "metadata": {},
   "outputs": [],
   "source": [
    "# 3：定义全部是1的输入\n",
    "x = torch.FloatTensor([[0.1, 0.1], [0.1, 0.1]])"
   ]
  },
  {
   "cell_type": "markdown",
   "metadata": {},
   "source": [
    "注册钩子必须在forward（）函数被执行之前，也就是定义网络进行计算之前就要注册，下面的代码对网络除去ReLU6以外的层都进行了注册（也可以选定某些层进行注册）："
   ]
  },
  {
   "cell_type": "code",
   "execution_count": 13,
   "metadata": {},
   "outputs": [],
   "source": [
    "# 4:注册钩子可以对某些层单独进行,以下对不是 nn.ReLU6 的层全部注册了hook.\n",
    "# 以后只要进行前项传播操作，hook 函数都会将 fea_in 和 fea_out 保存到 features_in_hook 和 features_out_hook 中\n",
    "net = TestForHook()\n",
    "net_chilren = net.children()\n",
    "for child in net_chilren:\n",
    "    if not isinstance(child, nn.ReLU6):\n",
    "        child.register_forward_hook(hook=hook)\n",
    "\n",
    "## list(net_chilren)\n",
    "## Linear(in_features=2, out_features=2, bias=True)\n",
    "## Linear(in_features=2, out_features=1, bias=True)\n",
    "## ReLU()\n",
    "## ReLU6()"
   ]
  },
  {
   "cell_type": "code",
   "execution_count": 14,
   "metadata": {},
   "outputs": [
    {
     "name": "stdout",
     "output_type": "stream",
     "text": [
      "hooker working\n",
      "module.__class__： <class 'torch.nn.modules.linear.Linear'>\n",
      "fea_in： (tensor([[0.1000, 0.1000],\n",
      "        [0.1000, 0.1000]]),)\n",
      "fea_out： tensor([[1.2000, 1.2000],\n",
      "        [1.2000, 1.2000]], grad_fn=<AddmmBackward>)\n",
      "\n",
      "\n",
      "hooker working\n",
      "module.__class__： <class 'torch.nn.modules.linear.Linear'>\n",
      "fea_in： (tensor([[1.2000, 1.2000],\n",
      "        [1.2000, 1.2000]], grad_fn=<AddmmBackward>),)\n",
      "fea_out： tensor([[3.4000],\n",
      "        [3.4000]], grad_fn=<AddmmBackward>)\n",
      "\n",
      "\n",
      "hooker working\n",
      "module.__class__： <class 'torch.nn.modules.activation.ReLU'>\n",
      "fea_in： (tensor([[3.4000],\n",
      "        [3.4000]], grad_fn=<AddmmBackward>),)\n",
      "fea_out： tensor([[3.4000],\n",
      "        [3.4000]], grad_fn=<ReluBackward0>)\n",
      "\n",
      "\n",
      "*****forward return features*****\n",
      "features_in_forward： (tensor([[0.1000, 0.1000],\n",
      "        [0.1000, 0.1000]]), tensor([[1.2000, 1.2000],\n",
      "        [1.2000, 1.2000]], grad_fn=<AddmmBackward>), tensor([[3.4000],\n",
      "        [3.4000]], grad_fn=<AddmmBackward>))\n",
      "features_out_forward： (tensor([[1.2000, 1.2000],\n",
      "        [1.2000, 1.2000]], grad_fn=<AddmmBackward>), tensor([[3.4000],\n",
      "        [3.4000]], grad_fn=<AddmmBackward>), tensor([[3.4000],\n",
      "        [3.4000]], grad_fn=<ReluBackward0>))\n",
      "*****forward return features*****\n"
     ]
    }
   ],
   "source": [
    "# 5:测试网络输出\n",
    "out, features_in_forward, features_out_forward = net(x)\n",
    "print(\"*\"*5+\"forward return features\"+\"*\"*5)\n",
    "print('features_in_forward：',features_in_forward)\n",
    "print('features_out_forward：',features_out_forward)\n",
    "print(\"*\"*5+\"forward return features\"+\"*\"*5)"
   ]
  },
  {
   "cell_type": "code",
   "execution_count": 15,
   "metadata": {},
   "outputs": [
    {
     "name": "stdout",
     "output_type": "stream",
     "text": [
      "*****hook record features*****\n",
      "[(tensor([[0.1000, 0.1000],\n",
      "        [0.1000, 0.1000]]),), (tensor([[1.2000, 1.2000],\n",
      "        [1.2000, 1.2000]], grad_fn=<AddmmBackward>),), (tensor([[3.4000],\n",
      "        [3.4000]], grad_fn=<AddmmBackward>),)]\n",
      "[tensor([[1.2000, 1.2000],\n",
      "        [1.2000, 1.2000]], grad_fn=<AddmmBackward>), tensor([[3.4000],\n",
      "        [3.4000]], grad_fn=<AddmmBackward>), tensor([[3.4000],\n",
      "        [3.4000]], grad_fn=<ReluBackward0>)]\n",
      "[<class 'torch.nn.modules.linear.Linear'>, <class 'torch.nn.modules.linear.Linear'>, <class 'torch.nn.modules.activation.ReLU'>]\n",
      "*****hook record features*****\n"
     ]
    }
   ],
   "source": [
    "# 6:测试features_in是不是存储了输入\n",
    "## 在上面的代码中指定了前三层的hook，features_in_hook 是该层的输入特征，features_out_hook 是该层的输出特征。\n",
    "## 可以看到进行forward之后，最后返回的所有层的forward值和hook层勾出来的值是一样的。\n",
    "\n",
    "print(\"*\"*5+\"hook record features\"+\"*\"*5)\n",
    "print(features_in_hook)\n",
    "print(features_out_hook)\n",
    "print(module_name)\n",
    "print(\"*\"*5+\"hook record features\"+\"*\"*5)"
   ]
  },
  {
   "cell_type": "code",
   "execution_count": 16,
   "metadata": {},
   "outputs": [
    {
     "name": "stdout",
     "output_type": "stream",
     "text": [
      "sub result\n",
      "tensor([[0., 0.],\n",
      "        [0., 0.]])\n",
      "tensor([[0., 0.],\n",
      "        [0., 0.]], grad_fn=<SubBackward0>)\n",
      "tensor([[0.],\n",
      "        [0.]], grad_fn=<SubBackward0>)\n"
     ]
    }
   ],
   "source": [
    "# 7：测试forward返回的feautes_in是不是和hook记录的一致\n",
    "print(\"sub result\")\n",
    "for forward_return, hook_record in zip(features_in_forward, features_in_hook):\n",
    "    print(forward_return-hook_record[0])"
   ]
  },
  {
   "cell_type": "code",
   "execution_count": null,
   "metadata": {},
   "outputs": [],
   "source": []
  }
 ],
 "metadata": {
  "kernelspec": {
   "display_name": "Python 3",
   "language": "python",
   "name": "python3"
  },
  "language_info": {
   "codemirror_mode": {
    "name": "ipython",
    "version": 3
   },
   "file_extension": ".py",
   "mimetype": "text/x-python",
   "name": "python",
   "nbconvert_exporter": "python",
   "pygments_lexer": "ipython3",
   "version": "3.6.4"
  }
 },
 "nbformat": 4,
 "nbformat_minor": 2
}
